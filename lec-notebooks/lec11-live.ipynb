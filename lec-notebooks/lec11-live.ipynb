{
 "cells": [
  {
   "cell_type": "code",
   "execution_count": 5,
   "metadata": {},
   "outputs": [],
   "source": [
    "from datascience import *\n",
    "import numpy as np\n",
    "\n",
    "%matplotlib inline\n",
    "import matplotlib.pyplot as plots\n",
    "plots.style.use('fivethirtyeight')"
   ]
  },
  {
   "cell_type": "markdown",
   "metadata": {},
   "source": [
    "# Lecture 11 #"
   ]
  },
  {
   "cell_type": "markdown",
   "metadata": {},
   "source": [
    "## Lists"
   ]
  },
  {
   "cell_type": "code",
   "execution_count": 1,
   "metadata": {},
   "outputs": [
    {
     "data": {
      "text/plain": [
       "[1, 2, 3]"
      ]
     },
     "execution_count": 1,
     "metadata": {},
     "output_type": "execute_result"
    }
   ],
   "source": [
    "# list of numbers\n",
    "[1, 2, 3]"
   ]
  },
  {
   "cell_type": "code",
   "execution_count": 2,
   "metadata": {},
   "outputs": [
    {
     "data": {
      "text/plain": [
       "['hello', 1, 2, 3]"
      ]
     },
     "execution_count": 2,
     "metadata": {},
     "output_type": "execute_result"
    }
   ],
   "source": [
    "# list of strings and numbers\n",
    "['hello', 1, 2, 3]"
   ]
  },
  {
   "cell_type": "code",
   "execution_count": 3,
   "metadata": {},
   "outputs": [
    {
     "data": {
      "text/plain": [
       "['hello', 7, 3.14, True]"
      ]
     },
     "execution_count": 3,
     "metadata": {},
     "output_type": "execute_result"
    }
   ],
   "source": [
    "# list of strings, numbers and boolean\n",
    "simple_list = ['hello', 7, 3.14, True]\n",
    "simple_list"
   ]
  },
  {
   "cell_type": "code",
   "execution_count": 6,
   "metadata": {},
   "outputs": [
    {
     "data": {
      "text/plain": [
       "[array([1, 2, 3]), 'what is going on', -10]"
      ]
     },
     "execution_count": 6,
     "metadata": {},
     "output_type": "execute_result"
    }
   ],
   "source": [
    "# nest an array within my list\n",
    "my_array = make_array(1, 2, 3)\n",
    "\n",
    "crowded_list = [my_array, 'what is going on', -10]\n",
    "crowded_list"
   ]
  },
  {
   "cell_type": "code",
   "execution_count": 7,
   "metadata": {},
   "outputs": [
    {
     "data": {
      "text/plain": [
       "list"
      ]
     },
     "execution_count": 7,
     "metadata": {},
     "output_type": "execute_result"
    }
   ],
   "source": [
    "type(crowded_list)"
   ]
  },
  {
   "cell_type": "code",
   "execution_count": 8,
   "metadata": {},
   "outputs": [
    {
     "data": {
      "text/html": [
       "<table border=\"1\" class=\"dataframe\">\n",
       "    <thead>\n",
       "        <tr>\n",
       "            <th>Numbers</th>\n",
       "        </tr>\n",
       "    </thead>\n",
       "    <tbody>\n",
       "        <tr>\n",
       "            <td>1      </td>\n",
       "        </tr>\n",
       "        <tr>\n",
       "            <td>2      </td>\n",
       "        </tr>\n",
       "        <tr>\n",
       "            <td>3      </td>\n",
       "        </tr>\n",
       "    </tbody>\n",
       "</table>"
      ],
      "text/plain": [
       "Numbers\n",
       "1\n",
       "2\n",
       "3"
      ]
     },
     "execution_count": 8,
     "metadata": {},
     "output_type": "execute_result"
    }
   ],
   "source": [
    "# create a table with a list\n",
    "Table().with_columns('Numbers', [1, 2, 3])"
   ]
  },
  {
   "cell_type": "code",
   "execution_count": 9,
   "metadata": {},
   "outputs": [
    {
     "data": {
      "text/html": [
       "<table border=\"1\" class=\"dataframe\">\n",
       "    <thead>\n",
       "        <tr>\n",
       "            <th>Drink</th> <th>Cafe</th> <th>Price</th>\n",
       "        </tr>\n",
       "    </thead>\n",
       "    <tbody>\n",
       "    </tbody>\n",
       "</table>"
      ],
      "text/plain": [
       "Drink | Cafe | Price"
      ]
     },
     "execution_count": 9,
     "metadata": {},
     "output_type": "execute_result"
    }
   ],
   "source": [
    "# populate column labels in a table, with a list\n",
    "drinks = Table(['Drink', 'Cafe', 'Price'])\n",
    "drinks"
   ]
  },
  {
   "cell_type": "code",
   "execution_count": 10,
   "metadata": {},
   "outputs": [
    {
     "data": {
      "text/html": [
       "<table border=\"1\" class=\"dataframe\">\n",
       "    <thead>\n",
       "        <tr>\n",
       "            <th>Drink</th> <th>Cafe</th> <th>Price</th>\n",
       "        </tr>\n",
       "    </thead>\n",
       "    <tbody>\n",
       "        <tr>\n",
       "            <td>Milk Tea</td> <td>Asha  </td> <td>5.5  </td>\n",
       "        </tr>\n",
       "        <tr>\n",
       "            <td>Espresso</td> <td>Strada</td> <td>1.75 </td>\n",
       "        </tr>\n",
       "        <tr>\n",
       "            <td>Latte   </td> <td>Strada</td> <td>3.25 </td>\n",
       "        </tr>\n",
       "        <tr>\n",
       "            <td>Espresso</td> <td>FSM   </td> <td>2    </td>\n",
       "        </tr>\n",
       "    </tbody>\n",
       "</table>"
      ],
      "text/plain": [
       "Drink    | Cafe   | Price\n",
       "Milk Tea | Asha   | 5.5\n",
       "Espresso | Strada | 1.75\n",
       "Latte    | Strada | 3.25\n",
       "Espresso | FSM    | 2"
      ]
     },
     "execution_count": 10,
     "metadata": {},
     "output_type": "execute_result"
    }
   ],
   "source": [
    "# define rows within a table, with lists!\n",
    "drinks = drinks.with_rows([\n",
    "    ['Milk Tea', 'Asha', 5.5],\n",
    "    ['Espresso', 'Strada',  1.75],\n",
    "    ['Latte',    'Strada',  3.25],\n",
    "    ['Espresso', \"FSM\",   2]\n",
    "])\n",
    "drinks"
   ]
  },
  {
   "cell_type": "markdown",
   "metadata": {},
   "source": [
    "## Grouping by one column"
   ]
  },
  {
   "cell_type": "code",
   "execution_count": 11,
   "metadata": {},
   "outputs": [
    {
     "data": {
      "text/html": [
       "<table border=\"1\" class=\"dataframe\">\n",
       "    <thead>\n",
       "        <tr>\n",
       "            <th>Pronouns</th> <th>Prior experience</th> <th>Confidence in programming</th> <th>Confidence in viz</th> <th>Lecture Pace</th> <th>Lecture preference</th> <th>Random1</th> <th>Random2</th> <th>Letter1</th> <th>Letter2</th> <th>Charity</th> <th>Job</th>\n",
       "        </tr>\n",
       "    </thead>\n",
       "    <tbody>\n",
       "        <tr>\n",
       "            <td>he/him/his  </td> <td>I have some experience.     </td> <td>Moderately               </td> <td>Very             </td> <td>too slow    </td> <td>Watching recordings of lectures </td> <td>4      </td> <td>23     </td> <td>M      </td> <td>1      </td> <td>50     </td> <td>A job I love that makes $100,000</td>\n",
       "        </tr>\n",
       "        <tr>\n",
       "            <td>she/her/hers</td> <td>I know a few basic concepts.</td> <td>Moderately               </td> <td>Moderately       </td> <td>just right  </td> <td>No preference                   </td> <td>5      </td> <td>37     </td> <td>a      </td> <td>4      </td> <td>98     </td> <td>A job I love that makes $100,000</td>\n",
       "        </tr>\n",
       "        <tr>\n",
       "            <td>he/him/his  </td> <td>No experience at all.       </td> <td>Moderately               </td> <td>Moderately       </td> <td>just right  </td> <td>No preference                   </td> <td>7      </td> <td>32     </td> <td>x      </td> <td>3      </td> <td>15     </td> <td>a job I hate that makes $500,000</td>\n",
       "        </tr>\n",
       "        <tr>\n",
       "            <td>she/her/hers</td> <td>I know a few basic concepts.</td> <td>Moderately               </td> <td>Very             </td> <td>just right  </td> <td>Watching recordings of lectures </td> <td>4      </td> <td>90     </td> <td>D      </td> <td>1      </td> <td>30     </td> <td>a job I hate that makes $500,000</td>\n",
       "        </tr>\n",
       "        <tr>\n",
       "            <td>he/him/his  </td> <td>I have some experience.     </td> <td>Moderately               </td> <td>Somewhat         </td> <td>too slow    </td> <td>Attending live lectures remotely</td> <td>3      </td> <td>6      </td> <td>x      </td> <td>22     </td> <td>90     </td> <td>A job I love that makes $100,000</td>\n",
       "        </tr>\n",
       "        <tr>\n",
       "            <td>she/her/hers</td> <td>I have some experience.     </td> <td>Somewhat                 </td> <td>Somewhat         </td> <td>just right  </td> <td>Watching recordings of lectures </td> <td>8      </td> <td>25     </td> <td>A      </td> <td>1      </td> <td>50     </td> <td>a job I hate that makes $500,000</td>\n",
       "        </tr>\n",
       "        <tr>\n",
       "            <td>he/him/his  </td> <td>I know a few basic concepts.</td> <td>Moderately               </td> <td>Moderately       </td> <td>just right  </td> <td>Watching recordings of lectures </td> <td>3      </td> <td>9      </td> <td>a      </td> <td>5      </td> <td>40     </td> <td>a job I hate that makes $500,000</td>\n",
       "        </tr>\n",
       "        <tr>\n",
       "            <td>he/him/his  </td> <td>No experience at all.       </td> <td>Not at all               </td> <td>Somewhat         </td> <td>just right  </td> <td>No preference                   </td> <td>10     </td> <td>60     </td> <td>c      </td> <td>18     </td> <td>0      </td> <td>a job I hate that makes $500,000</td>\n",
       "        </tr>\n",
       "        <tr>\n",
       "            <td>she/her/hers</td> <td>I have some experience.     </td> <td>Moderately               </td> <td>Moderately       </td> <td>just right  </td> <td>No preference                   </td> <td>3      </td> <td>48     </td> <td> B     </td> <td>Sigma  </td> <td>5      </td> <td>A job I love that makes $100,000</td>\n",
       "        </tr>\n",
       "        <tr>\n",
       "            <td>he/him/his  </td> <td>I have some experience.     </td> <td>Very                     </td> <td>Moderately       </td> <td>just right  </td> <td>Watching recordings of lectures </td> <td>2      </td> <td>39     </td> <td>v      </td> <td>4      </td> <td>20     </td> <td>a job I hate that makes $500,000</td>\n",
       "        </tr>\n",
       "        <tr>\n",
       "            <td>he/him/his  </td> <td>I have some experience.     </td> <td>Somewhat                 </td> <td>Somewhat         </td> <td>just right  </td> <td>No preference                   </td> <td>7      </td> <td>34     </td> <td>T      </td> <td>11     </td> <td>30     </td> <td>A job I love that makes $100,000</td>\n",
       "        </tr>\n",
       "        <tr>\n",
       "            <td>he/him/his  </td> <td>No experience at all.       </td> <td>Not at all               </td> <td>Somewhat         </td> <td>just right  </td> <td>Watching recordings of lectures </td> <td>4      </td> <td>24     </td> <td>a      </td> <td>22     </td> <td>10     </td> <td>a job I hate that makes $500,000</td>\n",
       "        </tr>\n",
       "        <tr>\n",
       "            <td>he/him/his  </td> <td>No experience at all.       </td> <td>Moderately               </td> <td>Moderately       </td> <td>too fast    </td> <td>No preference                   </td> <td>5      </td> <td>2      </td> <td>l      </td> <td>16     </td> <td>50     </td> <td>a job I hate that makes $500,000</td>\n",
       "        </tr>\n",
       "        <tr>\n",
       "            <td>he/him/his  </td> <td>I know a few basic concepts.</td> <td>Moderately               </td> <td>Very             </td> <td>just right  </td> <td>Attending live lectures remotely</td> <td>10     </td> <td>99     </td> <td>E      </td> <td>15     </td> <td>100    </td> <td>a job I hate that makes $500,000</td>\n",
       "        </tr>\n",
       "        <tr>\n",
       "            <td>she/her/hers</td> <td>I know a few basic concepts.</td> <td>Somewhat                 </td> <td>Not at all       </td> <td>just right  </td> <td>No preference                   </td> <td>9      </td> <td>56     </td> <td>l      </td> <td>8      </td> <td>100    </td> <td>A job I love that makes $100,000</td>\n",
       "        </tr>\n",
       "    </tbody>\n",
       "</table>\n",
       "<p>... (3 rows omitted)</p>"
      ],
      "text/plain": [
       "<IPython.core.display.HTML object>"
      ]
     },
     "metadata": {},
     "output_type": "display_data"
    }
   ],
   "source": [
    "survey = Table.read_table('ds1-survey-pronouns.csv')\n",
    "survey.show(15)"
   ]
  },
  {
   "cell_type": "code",
   "execution_count": 12,
   "metadata": {},
   "outputs": [
    {
     "data": {
      "text/html": [
       "<table border=\"1\" class=\"dataframe\">\n",
       "    <thead>\n",
       "        <tr>\n",
       "            <th>Charity</th> <th>count</th>\n",
       "        </tr>\n",
       "    </thead>\n",
       "    <tbody>\n",
       "        <tr>\n",
       "            <td>0      </td> <td>1    </td>\n",
       "        </tr>\n",
       "        <tr>\n",
       "            <td>5      </td> <td>1    </td>\n",
       "        </tr>\n",
       "        <tr>\n",
       "            <td>10     </td> <td>2    </td>\n",
       "        </tr>\n",
       "        <tr>\n",
       "            <td>15     </td> <td>1    </td>\n",
       "        </tr>\n",
       "        <tr>\n",
       "            <td>20     </td> <td>1    </td>\n",
       "        </tr>\n",
       "        <tr>\n",
       "            <td>30     </td> <td>3    </td>\n",
       "        </tr>\n",
       "        <tr>\n",
       "            <td>40     </td> <td>1    </td>\n",
       "        </tr>\n",
       "        <tr>\n",
       "            <td>50     </td> <td>4    </td>\n",
       "        </tr>\n",
       "        <tr>\n",
       "            <td>90     </td> <td>1    </td>\n",
       "        </tr>\n",
       "        <tr>\n",
       "            <td>98     </td> <td>1    </td>\n",
       "        </tr>\n",
       "        <tr>\n",
       "            <td>100    </td> <td>2    </td>\n",
       "        </tr>\n",
       "    </tbody>\n",
       "</table>"
      ],
      "text/plain": [
       "<IPython.core.display.HTML object>"
      ]
     },
     "metadata": {},
     "output_type": "display_data"
    }
   ],
   "source": [
    "survey.group('Charity').show()"
   ]
  },
  {
   "cell_type": "code",
   "execution_count": 13,
   "metadata": {},
   "outputs": [
    {
     "data": {
      "text/html": [
       "<table border=\"1\" class=\"dataframe\">\n",
       "    <thead>\n",
       "        <tr>\n",
       "            <th>Job</th> <th>Pronouns average</th> <th>Prior experience average</th> <th>Confidence in programming average</th> <th>Confidence in viz average</th> <th>Lecture Pace average</th> <th>Lecture preference average</th> <th>Random1 average</th> <th>Random2 average</th> <th>Letter1 average</th> <th>Letter2 average</th> <th>Charity average</th>\n",
       "        </tr>\n",
       "    </thead>\n",
       "    <tbody>\n",
       "        <tr>\n",
       "            <td>A job I love that makes $100,000</td> <td>                </td> <td>                        </td> <td>                                 </td> <td>                         </td> <td>                    </td> <td>                          </td> <td>5.16667        </td> <td>34             </td> <td>               </td> <td>               </td> <td>62.1667        </td>\n",
       "        </tr>\n",
       "        <tr>\n",
       "            <td>a job I hate that makes $500,000</td> <td>                </td> <td>                        </td> <td>                                 </td> <td>                         </td> <td>                    </td> <td>                          </td> <td>5.58333        </td> <td>44.6667        </td> <td>               </td> <td>               </td> <td>33.75          </td>\n",
       "        </tr>\n",
       "    </tbody>\n",
       "</table>"
      ],
      "text/plain": [
       "Job                              | Pronouns average | Prior experience average | Confidence in programming average | Confidence in viz average | Lecture Pace average | Lecture preference average | Random1 average | Random2 average | Letter1 average | Letter2 average | Charity average\n",
       "A job I love that makes $100,000 |                  |                          |                                   |                           |                      |                            | 5.16667         | 34              |                 |                 | 62.1667\n",
       "a job I hate that makes $500,000 |                  |                          |                                   |                           |                      |                            | 5.58333         | 44.6667         |                 |                 | 33.75"
      ]
     },
     "execution_count": 13,
     "metadata": {},
     "output_type": "execute_result"
    }
   ],
   "source": [
    "survey.group('Job', np.average)"
   ]
  },
  {
   "cell_type": "code",
   "execution_count": 14,
   "metadata": {
    "scrolled": true
   },
   "outputs": [
    {
     "data": {
      "text/html": [
       "<table border=\"1\" class=\"dataframe\">\n",
       "    <thead>\n",
       "        <tr>\n",
       "            <th>Job</th> <th>Charity average</th>\n",
       "        </tr>\n",
       "    </thead>\n",
       "    <tbody>\n",
       "        <tr>\n",
       "            <td>A job I love that makes $100,000</td> <td>62.1667        </td>\n",
       "        </tr>\n",
       "        <tr>\n",
       "            <td>a job I hate that makes $500,000</td> <td>33.75          </td>\n",
       "        </tr>\n",
       "    </tbody>\n",
       "</table>"
      ],
      "text/plain": [
       "Job                              | Charity average\n",
       "A job I love that makes $100,000 | 62.1667\n",
       "a job I hate that makes $500,000 | 33.75"
      ]
     },
     "execution_count": 14,
     "metadata": {},
     "output_type": "execute_result"
    }
   ],
   "source": [
    "(survey.select('Charity', 'Job').group('Job', np.average))"
   ]
  },
  {
   "cell_type": "code",
   "execution_count": 16,
   "metadata": {},
   "outputs": [
    {
     "data": {
      "text/html": [
       "<table border=\"1\" class=\"dataframe\">\n",
       "    <thead>\n",
       "        <tr>\n",
       "            <th>Pronouns</th> <th>Charity average</th>\n",
       "        </tr>\n",
       "    </thead>\n",
       "    <tbody>\n",
       "        <tr>\n",
       "            <td>he/him/his  </td> <td>40.5           </td>\n",
       "        </tr>\n",
       "        <tr>\n",
       "            <td>she/her/hers</td> <td>46.625         </td>\n",
       "        </tr>\n",
       "    </tbody>\n",
       "</table>"
      ],
      "text/plain": [
       "Pronouns     | Charity average\n",
       "he/him/his   | 40.5\n",
       "she/her/hers | 46.625"
      ]
     },
     "execution_count": 16,
     "metadata": {},
     "output_type": "execute_result"
    }
   ],
   "source": [
    "# how would you using similar code as above\n",
    "# show the relationship between pronouns and charity average? \n",
    "(survey.select('Pronouns', 'Charity').group('Pronouns', np.average))"
   ]
  },
  {
   "cell_type": "code",
   "execution_count": null,
   "metadata": {},
   "outputs": [],
   "source": [
    "#what happens when you group by charity instead?\n"
   ]
  },
  {
   "cell_type": "markdown",
   "metadata": {},
   "source": [
    "## Cross-classification: grouping by two columns"
   ]
  },
  {
   "cell_type": "code",
   "execution_count": 18,
   "metadata": {},
   "outputs": [
    {
     "data": {
      "text/html": [
       "<table border=\"1\" class=\"dataframe\">\n",
       "    <thead>\n",
       "        <tr>\n",
       "            <th>Pronouns</th> <th>count</th>\n",
       "        </tr>\n",
       "    </thead>\n",
       "    <tbody>\n",
       "        <tr>\n",
       "            <td>he/him/his  </td> <td>10   </td>\n",
       "        </tr>\n",
       "        <tr>\n",
       "            <td>she/her/hers</td> <td>8    </td>\n",
       "        </tr>\n",
       "    </tbody>\n",
       "</table>"
      ],
      "text/plain": [
       "<IPython.core.display.HTML object>"
      ]
     },
     "metadata": {},
     "output_type": "display_data"
    }
   ],
   "source": [
    "survey.group(['Pronouns']).show()"
   ]
  },
  {
   "cell_type": "code",
   "execution_count": 17,
   "metadata": {},
   "outputs": [
    {
     "name": "stderr",
     "output_type": "stream",
     "text": [
      "/opt/conda/lib/python3.7/site-packages/datascience/tables.py:920: VisibleDeprecationWarning: Creating an ndarray from ragged nested sequences (which is a list-or-tuple of lists-or-tuples-or ndarrays with different lengths or shapes) is deprecated. If you meant to do this, you must specify 'dtype=object' when creating the ndarray\n",
      "  values = np.array(tuple(values))\n"
     ]
    },
    {
     "data": {
      "text/html": [
       "<table border=\"1\" class=\"dataframe\">\n",
       "    <thead>\n",
       "        <tr>\n",
       "            <th>Pronouns</th> <th>Charity</th> <th>count</th>\n",
       "        </tr>\n",
       "    </thead>\n",
       "    <tbody>\n",
       "        <tr>\n",
       "            <td>he/him/his  </td> <td>0      </td> <td>1    </td>\n",
       "        </tr>\n",
       "        <tr>\n",
       "            <td>he/him/his  </td> <td>10     </td> <td>1    </td>\n",
       "        </tr>\n",
       "        <tr>\n",
       "            <td>he/him/his  </td> <td>15     </td> <td>1    </td>\n",
       "        </tr>\n",
       "        <tr>\n",
       "            <td>he/him/his  </td> <td>20     </td> <td>1    </td>\n",
       "        </tr>\n",
       "        <tr>\n",
       "            <td>he/him/his  </td> <td>30     </td> <td>1    </td>\n",
       "        </tr>\n",
       "        <tr>\n",
       "            <td>he/him/his  </td> <td>40     </td> <td>1    </td>\n",
       "        </tr>\n",
       "        <tr>\n",
       "            <td>he/him/his  </td> <td>50     </td> <td>2    </td>\n",
       "        </tr>\n",
       "        <tr>\n",
       "            <td>he/him/his  </td> <td>90     </td> <td>1    </td>\n",
       "        </tr>\n",
       "        <tr>\n",
       "            <td>he/him/his  </td> <td>100    </td> <td>1    </td>\n",
       "        </tr>\n",
       "        <tr>\n",
       "            <td>she/her/hers</td> <td>5      </td> <td>1    </td>\n",
       "        </tr>\n",
       "        <tr>\n",
       "            <td>she/her/hers</td> <td>10     </td> <td>1    </td>\n",
       "        </tr>\n",
       "        <tr>\n",
       "            <td>she/her/hers</td> <td>30     </td> <td>2    </td>\n",
       "        </tr>\n",
       "        <tr>\n",
       "            <td>she/her/hers</td> <td>50     </td> <td>2    </td>\n",
       "        </tr>\n",
       "        <tr>\n",
       "            <td>she/her/hers</td> <td>98     </td> <td>1    </td>\n",
       "        </tr>\n",
       "        <tr>\n",
       "            <td>she/her/hers</td> <td>100    </td> <td>1    </td>\n",
       "        </tr>\n",
       "    </tbody>\n",
       "</table>"
      ],
      "text/plain": [
       "<IPython.core.display.HTML object>"
      ]
     },
     "metadata": {},
     "output_type": "display_data"
    }
   ],
   "source": [
    "survey.group(['Pronouns','Charity']).show()"
   ]
  },
  {
   "cell_type": "code",
   "execution_count": 19,
   "metadata": {},
   "outputs": [
    {
     "data": {
      "text/html": [
       "<table border=\"1\" class=\"dataframe\">\n",
       "    <thead>\n",
       "        <tr>\n",
       "            <th>Charity</th> <th>he/him/his</th> <th>she/her/hers</th>\n",
       "        </tr>\n",
       "    </thead>\n",
       "    <tbody>\n",
       "        <tr>\n",
       "            <td>0      </td> <td>1         </td> <td>0           </td>\n",
       "        </tr>\n",
       "        <tr>\n",
       "            <td>5      </td> <td>0         </td> <td>1           </td>\n",
       "        </tr>\n",
       "        <tr>\n",
       "            <td>10     </td> <td>1         </td> <td>1           </td>\n",
       "        </tr>\n",
       "        <tr>\n",
       "            <td>15     </td> <td>1         </td> <td>0           </td>\n",
       "        </tr>\n",
       "        <tr>\n",
       "            <td>20     </td> <td>1         </td> <td>0           </td>\n",
       "        </tr>\n",
       "        <tr>\n",
       "            <td>30     </td> <td>1         </td> <td>2           </td>\n",
       "        </tr>\n",
       "        <tr>\n",
       "            <td>40     </td> <td>1         </td> <td>0           </td>\n",
       "        </tr>\n",
       "        <tr>\n",
       "            <td>50     </td> <td>2         </td> <td>2           </td>\n",
       "        </tr>\n",
       "        <tr>\n",
       "            <td>90     </td> <td>1         </td> <td>0           </td>\n",
       "        </tr>\n",
       "        <tr>\n",
       "            <td>98     </td> <td>0         </td> <td>1           </td>\n",
       "        </tr>\n",
       "    </tbody>\n",
       "</table>\n",
       "<p>... (1 rows omitted)</p>"
      ],
      "text/plain": [
       "Charity | he/him/his | she/her/hers\n",
       "0       | 1          | 0\n",
       "5       | 0          | 1\n",
       "10      | 1          | 1\n",
       "15      | 1          | 0\n",
       "20      | 1          | 0\n",
       "30      | 1          | 2\n",
       "40      | 1          | 0\n",
       "50      | 2          | 2\n",
       "90      | 1          | 0\n",
       "98      | 0          | 1\n",
       "... (1 rows omitted)"
      ]
     },
     "execution_count": 19,
     "metadata": {},
     "output_type": "execute_result"
    }
   ],
   "source": [
    "survey.pivot('Pronouns', 'Charity')"
   ]
  },
  {
   "cell_type": "code",
   "execution_count": 20,
   "metadata": {},
   "outputs": [
    {
     "data": {
      "text/html": [
       "<table border=\"1\" class=\"dataframe\">\n",
       "    <thead>\n",
       "        <tr>\n",
       "            <th>Job</th> <th>he/him/his</th> <th>she/her/hers</th>\n",
       "        </tr>\n",
       "    </thead>\n",
       "    <tbody>\n",
       "        <tr>\n",
       "            <td>A job I love that makes $100,000</td> <td>56.6667   </td> <td>67.6667     </td>\n",
       "        </tr>\n",
       "        <tr>\n",
       "            <td>a job I hate that makes $500,000</td> <td>33.5714   </td> <td>34          </td>\n",
       "        </tr>\n",
       "    </tbody>\n",
       "</table>"
      ],
      "text/plain": [
       "Job                              | he/him/his | she/her/hers\n",
       "A job I love that makes $100,000 | 56.6667    | 67.6667\n",
       "a job I hate that makes $500,000 | 33.5714    | 34"
      ]
     },
     "execution_count": 20,
     "metadata": {},
     "output_type": "execute_result"
    }
   ],
   "source": [
    "survey.pivot('Pronouns', 'Job', 'Charity', np.average)"
   ]
  },
  {
   "cell_type": "code",
   "execution_count": 21,
   "metadata": {
    "scrolled": true
   },
   "outputs": [
    {
     "data": {
      "text/html": [
       "<table border=\"1\" class=\"dataframe\">\n",
       "    <thead>\n",
       "        <tr>\n",
       "            <th>Job</th> <th>Pronouns</th> <th>Charity average</th>\n",
       "        </tr>\n",
       "    </thead>\n",
       "    <tbody>\n",
       "        <tr>\n",
       "            <td>A job I love that makes $100,000</td> <td>he/him/his  </td> <td>56.6667        </td>\n",
       "        </tr>\n",
       "        <tr>\n",
       "            <td>A job I love that makes $100,000</td> <td>she/her/hers</td> <td>67.6667        </td>\n",
       "        </tr>\n",
       "        <tr>\n",
       "            <td>a job I hate that makes $500,000</td> <td>he/him/his  </td> <td>33.5714        </td>\n",
       "        </tr>\n",
       "        <tr>\n",
       "            <td>a job I hate that makes $500,000</td> <td>she/her/hers</td> <td>34             </td>\n",
       "        </tr>\n",
       "    </tbody>\n",
       "</table>"
      ],
      "text/plain": [
       "<IPython.core.display.HTML object>"
      ]
     },
     "metadata": {},
     "output_type": "display_data"
    }
   ],
   "source": [
    "(survey.select('Job', 'Pronouns', 'Charity')\n",
    "       .group(['Job','Pronouns'], np.average)).show()"
   ]
  },
  {
   "cell_type": "code",
   "execution_count": 22,
   "metadata": {},
   "outputs": [
    {
     "ename": "TypeError",
     "evalue": "values requires collect to be specified",
     "output_type": "error",
     "traceback": [
      "\u001b[0;31m---------------------------------------------------------------------------\u001b[0m",
      "\u001b[0;31mTypeError\u001b[0m                                 Traceback (most recent call last)",
      "\u001b[0;32m<ipython-input-22-2f0cc556e427>\u001b[0m in \u001b[0;36m<module>\u001b[0;34m\u001b[0m\n\u001b[1;32m      1\u001b[0m \u001b[0;31m# Here, pivot doesn't know how to aggregate the Charity values\u001b[0m\u001b[0;34m\u001b[0m\u001b[0;34m\u001b[0m\u001b[0;34m\u001b[0m\u001b[0m\n\u001b[1;32m      2\u001b[0m \u001b[0;31m# for each subgroup of students\u001b[0m\u001b[0;34m\u001b[0m\u001b[0;34m\u001b[0m\u001b[0;34m\u001b[0m\u001b[0m\n\u001b[0;32m----> 3\u001b[0;31m \u001b[0msurvey\u001b[0m\u001b[0;34m.\u001b[0m\u001b[0mpivot\u001b[0m\u001b[0;34m(\u001b[0m\u001b[0;34m'Pronouns'\u001b[0m\u001b[0;34m,\u001b[0m \u001b[0;34m'Job'\u001b[0m\u001b[0;34m,\u001b[0m \u001b[0;34m'Charity'\u001b[0m\u001b[0;34m)\u001b[0m\u001b[0;34m\u001b[0m\u001b[0;34m\u001b[0m\u001b[0m\n\u001b[0m",
      "\u001b[0;32m/opt/conda/lib/python3.7/site-packages/datascience/tables.py\u001b[0m in \u001b[0;36mpivot\u001b[0;34m(self, columns, rows, values, collect, zero)\u001b[0m\n\u001b[1;32m   1668\u001b[0m             \u001b[0;32mraise\u001b[0m \u001b[0mTypeError\u001b[0m\u001b[0;34m(\u001b[0m\u001b[0;34m'collect requires values to be specified'\u001b[0m\u001b[0;34m)\u001b[0m\u001b[0;34m\u001b[0m\u001b[0;34m\u001b[0m\u001b[0m\n\u001b[1;32m   1669\u001b[0m         \u001b[0;32mif\u001b[0m \u001b[0mvalues\u001b[0m \u001b[0;32mis\u001b[0m \u001b[0;32mnot\u001b[0m \u001b[0;32mNone\u001b[0m \u001b[0;32mand\u001b[0m \u001b[0mcollect\u001b[0m \u001b[0;32mis\u001b[0m \u001b[0;32mNone\u001b[0m\u001b[0;34m:\u001b[0m\u001b[0;34m\u001b[0m\u001b[0;34m\u001b[0m\u001b[0m\n\u001b[0;32m-> 1670\u001b[0;31m             \u001b[0;32mraise\u001b[0m \u001b[0mTypeError\u001b[0m\u001b[0;34m(\u001b[0m\u001b[0;34m'values requires collect to be specified'\u001b[0m\u001b[0;34m)\u001b[0m\u001b[0;34m\u001b[0m\u001b[0;34m\u001b[0m\u001b[0m\n\u001b[0m\u001b[1;32m   1671\u001b[0m         \u001b[0mcolumns\u001b[0m \u001b[0;34m=\u001b[0m \u001b[0mself\u001b[0m\u001b[0;34m.\u001b[0m\u001b[0m_as_label\u001b[0m\u001b[0;34m(\u001b[0m\u001b[0mcolumns\u001b[0m\u001b[0;34m)\u001b[0m\u001b[0;34m\u001b[0m\u001b[0;34m\u001b[0m\u001b[0m\n\u001b[1;32m   1672\u001b[0m         \u001b[0mrows\u001b[0m \u001b[0;34m=\u001b[0m \u001b[0mself\u001b[0m\u001b[0;34m.\u001b[0m\u001b[0m_as_labels\u001b[0m\u001b[0;34m(\u001b[0m\u001b[0mrows\u001b[0m\u001b[0;34m)\u001b[0m\u001b[0;34m\u001b[0m\u001b[0;34m\u001b[0m\u001b[0m\n",
      "\u001b[0;31mTypeError\u001b[0m: values requires collect to be specified"
     ]
    }
   ],
   "source": [
    "# Here, pivot doesn't know how to aggregate the Charity values\n",
    "# for each subgroup of students\n",
    "survey.pivot('Pronouns', 'Job', 'Charity')"
   ]
  },
  {
   "cell_type": "markdown",
   "metadata": {},
   "source": [
    "## Challenge Question ##"
   ]
  },
  {
   "cell_type": "code",
   "execution_count": 23,
   "metadata": {},
   "outputs": [
    {
     "data": {
      "text/html": [
       "<table border=\"1\" class=\"dataframe\">\n",
       "    <thead>\n",
       "        <tr>\n",
       "            <th>name</th> <th>material</th> <th>city</th> <th>height</th> <th>age</th>\n",
       "        </tr>\n",
       "    </thead>\n",
       "    <tbody>\n",
       "        <tr>\n",
       "            <td>One World Trade Center</td> <td>mixed/composite</td> <td>New York City</td> <td>541.3 </td> <td>7   </td>\n",
       "        </tr>\n",
       "        <tr>\n",
       "            <td>Willis Tower          </td> <td>steel          </td> <td>Chicago      </td> <td>442.14</td> <td>47  </td>\n",
       "        </tr>\n",
       "        <tr>\n",
       "            <td>432 Park Avenue       </td> <td>concrete       </td> <td>New York City</td> <td>425.5 </td> <td>6   </td>\n",
       "        </tr>\n",
       "    </tbody>\n",
       "</table>\n",
       "<p>... (1778 rows omitted)</p>"
      ],
      "text/plain": [
       "<IPython.core.display.HTML object>"
      ]
     },
     "metadata": {},
     "output_type": "display_data"
    }
   ],
   "source": [
    "sky = Table.read_table('skyscrapers_v2.csv')\n",
    "sky = (sky.with_column('age', 2021 - sky.column('completed'))\n",
    "          .drop('completed'))\n",
    "sky.show(3)"
   ]
  },
  {
   "cell_type": "code",
   "execution_count": null,
   "metadata": {},
   "outputs": [],
   "source": [
    "# 1. For each city, what’s the tallest building for each material?\n",
    "\n",
    "\n",
    "\n",
    "\n",
    "\n",
    "\n",
    "\n",
    "\n"
   ]
  },
  {
   "cell_type": "code",
   "execution_count": null,
   "metadata": {},
   "outputs": [],
   "source": [
    "# 2. For each city, what’s the height difference between the tallest \n",
    "#    steel building and the tallest concrete building?\n",
    "\n",
    "\n",
    "\n",
    "\n",
    "\n",
    "\n",
    "\n",
    "\n",
    "\n",
    "\n"
   ]
  },
  {
   "cell_type": "markdown",
   "metadata": {},
   "source": [
    "Don't read ahead until you try the challenge questions yourself first!"
   ]
  },
  {
   "cell_type": "code",
   "execution_count": 27,
   "metadata": {
    "scrolled": false
   },
   "outputs": [
    {
     "data": {
      "text/html": [
       "<table border=\"1\" class=\"dataframe\">\n",
       "    <thead>\n",
       "        <tr>\n",
       "            <th>city</th> <th>material</th> <th>name max</th> <th>height max</th>\n",
       "        </tr>\n",
       "    </thead>\n",
       "    <tbody>\n",
       "        <tr>\n",
       "            <td>Atlanta  </td> <td>concrete       </td> <td>Westin Peachtree Plaza                 </td> <td>264.25    </td>\n",
       "        </tr>\n",
       "        <tr>\n",
       "            <td>Atlanta  </td> <td>mixed/composite</td> <td>Two Alliance Center                    </td> <td>311.8     </td>\n",
       "        </tr>\n",
       "        <tr>\n",
       "            <td>Atlanta  </td> <td>steel          </td> <td>State of Georgia Building              </td> <td>169.47    </td>\n",
       "        </tr>\n",
       "        <tr>\n",
       "            <td>Austin   </td> <td>concrete       </td> <td>Windsor on the Lake                    </td> <td>208.15    </td>\n",
       "        </tr>\n",
       "        <tr>\n",
       "            <td>Austin   </td> <td>steel          </td> <td>University of Texas Tower              </td> <td>93.6      </td>\n",
       "        </tr>\n",
       "        <tr>\n",
       "            <td>Baltimore</td> <td>concrete       </td> <td>The John and Frances Angelos Law Center</td> <td>161.24    </td>\n",
       "        </tr>\n",
       "        <tr>\n",
       "            <td>Baltimore</td> <td>steel          </td> <td>Mercy Medical Center Inpatient Tower   </td> <td>155.15    </td>\n",
       "        </tr>\n",
       "        <tr>\n",
       "            <td>Boston   </td> <td>concrete       </td> <td>Harbor Towers II                       </td> <td>121.92    </td>\n",
       "        </tr>\n",
       "        <tr>\n",
       "            <td>Boston   </td> <td>mixed/composite</td> <td>Ellison Building                       </td> <td>139       </td>\n",
       "        </tr>\n",
       "        <tr>\n",
       "            <td>Boston   </td> <td>steel          </td> <td>Two International Place                </td> <td>240.79    </td>\n",
       "        </tr>\n",
       "    </tbody>\n",
       "</table>\n",
       "<p>... (81 rows omitted)</p>"
      ],
      "text/plain": [
       "city      | material        | name max                                | height max\n",
       "Atlanta   | concrete        | Westin Peachtree Plaza                  | 264.25\n",
       "Atlanta   | mixed/composite | Two Alliance Center                     | 311.8\n",
       "Atlanta   | steel           | State of Georgia Building               | 169.47\n",
       "Austin    | concrete        | Windsor on the Lake                     | 208.15\n",
       "Austin    | steel           | University of Texas Tower               | 93.6\n",
       "Baltimore | concrete        | The John and Frances Angelos Law Center | 161.24\n",
       "Baltimore | steel           | Mercy Medical Center Inpatient Tower    | 155.15\n",
       "Boston    | concrete        | Harbor Towers II                        | 121.92\n",
       "Boston    | mixed/composite | Ellison Building                        | 139\n",
       "Boston    | steel           | Two International Place                 | 240.79\n",
       "... (81 rows omitted)"
      ]
     },
     "execution_count": 27,
     "metadata": {},
     "output_type": "execute_result"
    }
   ],
   "source": [
    "# 1. For each city, what’s the tallest building for each material?\n",
    "\n",
    "sky.select('name','material', 'city', 'height').group(['city', 'material'], max)"
   ]
  },
  {
   "cell_type": "code",
   "execution_count": 32,
   "metadata": {},
   "outputs": [
    {
     "data": {
      "text/html": [
       "<table border=\"1\" class=\"dataframe\">\n",
       "    <thead>\n",
       "        <tr>\n",
       "            <th>city</th> <th>concrete</th> <th>steel</th>\n",
       "        </tr>\n",
       "    </thead>\n",
       "    <tbody>\n",
       "        <tr>\n",
       "            <td>Atlanta   </td> <td>264.25  </td> <td>169.47</td>\n",
       "        </tr>\n",
       "        <tr>\n",
       "            <td>Austin    </td> <td>208.15  </td> <td>93.6  </td>\n",
       "        </tr>\n",
       "        <tr>\n",
       "            <td>Baltimore </td> <td>161.24  </td> <td>155.15</td>\n",
       "        </tr>\n",
       "        <tr>\n",
       "            <td>Boston    </td> <td>121.92  </td> <td>240.79</td>\n",
       "        </tr>\n",
       "        <tr>\n",
       "            <td>Charlotte </td> <td>265.48  </td> <td>179.23</td>\n",
       "        </tr>\n",
       "        <tr>\n",
       "            <td>Chicago   </td> <td>423.22  </td> <td>442.14</td>\n",
       "        </tr>\n",
       "        <tr>\n",
       "            <td>Cincinnati</td> <td>125     </td> <td>175   </td>\n",
       "        </tr>\n",
       "        <tr>\n",
       "            <td>Cleveland </td> <td>125     </td> <td>215.8 </td>\n",
       "        </tr>\n",
       "        <tr>\n",
       "            <td>Columbus  </td> <td>79.25   </td> <td>169.3 </td>\n",
       "        </tr>\n",
       "        <tr>\n",
       "            <td>Dallas    </td> <td>176.48  </td> <td>270.06</td>\n",
       "        </tr>\n",
       "    </tbody>\n",
       "</table>\n",
       "<p>... (25 rows omitted)</p>"
      ],
      "text/plain": [
       "city       | concrete | steel\n",
       "Atlanta    | 264.25   | 169.47\n",
       "Austin     | 208.15   | 93.6\n",
       "Baltimore  | 161.24   | 155.15\n",
       "Boston     | 121.92   | 240.79\n",
       "Charlotte  | 265.48   | 179.23\n",
       "Chicago    | 423.22   | 442.14\n",
       "Cincinnati | 125      | 175\n",
       "Cleveland  | 125      | 215.8\n",
       "Columbus   | 79.25    | 169.3\n",
       "Dallas     | 176.48   | 270.06\n",
       "... (25 rows omitted)"
      ]
     },
     "execution_count": 32,
     "metadata": {},
     "output_type": "execute_result"
    }
   ],
   "source": [
    "# 1. For each city, what’s the tallest building for each material?\n",
    "sky_p = sky.pivot('material', 'city', 'height', max)\n",
    "sky_p = sky_p.drop(\"mixed/composite\")\n",
    "sky_p"
   ]
  },
  {
   "cell_type": "code",
   "execution_count": 28,
   "metadata": {},
   "outputs": [
    {
     "data": {
      "text/html": [
       "<table border=\"1\" class=\"dataframe\">\n",
       "    <thead>\n",
       "        <tr>\n",
       "            <th>city</th> <th>concrete</th> <th>mixed/composite</th> <th>steel</th> <th>difference</th>\n",
       "        </tr>\n",
       "    </thead>\n",
       "    <tbody>\n",
       "        <tr>\n",
       "            <td>Atlanta   </td> <td>264.25  </td> <td>311.8          </td> <td>169.47</td> <td>94.78     </td>\n",
       "        </tr>\n",
       "        <tr>\n",
       "            <td>Austin    </td> <td>208.15  </td> <td>0              </td> <td>93.6  </td> <td>114.55    </td>\n",
       "        </tr>\n",
       "        <tr>\n",
       "            <td>Baltimore </td> <td>161.24  </td> <td>0              </td> <td>155.15</td> <td>6.09001   </td>\n",
       "        </tr>\n",
       "        <tr>\n",
       "            <td>Boston    </td> <td>121.92  </td> <td>139            </td> <td>240.79</td> <td>118.87    </td>\n",
       "        </tr>\n",
       "        <tr>\n",
       "            <td>Charlotte </td> <td>265.48  </td> <td>239.7          </td> <td>179.23</td> <td>86.25     </td>\n",
       "        </tr>\n",
       "        <tr>\n",
       "            <td>Chicago   </td> <td>423.22  </td> <td>306.94         </td> <td>442.14</td> <td>18.92     </td>\n",
       "        </tr>\n",
       "        <tr>\n",
       "            <td>Cincinnati</td> <td>125     </td> <td>202.69         </td> <td>175   </td> <td>50        </td>\n",
       "        </tr>\n",
       "        <tr>\n",
       "            <td>Cleveland </td> <td>125     </td> <td>288.65         </td> <td>215.8 </td> <td>90.8      </td>\n",
       "        </tr>\n",
       "        <tr>\n",
       "            <td>Columbus  </td> <td>79.25   </td> <td>0              </td> <td>169.3 </td> <td>90.05     </td>\n",
       "        </tr>\n",
       "        <tr>\n",
       "            <td>Dallas    </td> <td>176.48  </td> <td>280.72         </td> <td>270.06</td> <td>93.58     </td>\n",
       "        </tr>\n",
       "    </tbody>\n",
       "</table>\n",
       "<p>... (25 rows omitted)</p>"
      ],
      "text/plain": [
       "city       | concrete | mixed/composite | steel  | difference\n",
       "Atlanta    | 264.25   | 311.8           | 169.47 | 94.78\n",
       "Austin     | 208.15   | 0               | 93.6   | 114.55\n",
       "Baltimore  | 161.24   | 0               | 155.15 | 6.09001\n",
       "Boston     | 121.92   | 139             | 240.79 | 118.87\n",
       "Charlotte  | 265.48   | 239.7           | 179.23 | 86.25\n",
       "Chicago    | 423.22   | 306.94          | 442.14 | 18.92\n",
       "Cincinnati | 125      | 202.69          | 175    | 50\n",
       "Cleveland  | 125      | 288.65          | 215.8  | 90.8\n",
       "Columbus   | 79.25    | 0               | 169.3  | 90.05\n",
       "Dallas     | 176.48   | 280.72          | 270.06 | 93.58\n",
       "... (25 rows omitted)"
      ]
     },
     "execution_count": 28,
     "metadata": {},
     "output_type": "execute_result"
    }
   ],
   "source": [
    "# 2. For each city, what’s the height difference between the tallest \n",
    "#    steel building and the tallest concrete building?\n",
    "\n",
    "\n",
    "sky_p = sky_p.with_column(\n",
    "    'difference', \n",
    "    abs(sky_p.column('steel') - sky_p.column('concrete'))\n",
    ")\n",
    "sky_p"
   ]
  },
  {
   "cell_type": "code",
   "execution_count": 29,
   "metadata": {},
   "outputs": [
    {
     "data": {
      "text/html": [
       "<table border=\"1\" class=\"dataframe\">\n",
       "    <thead>\n",
       "        <tr>\n",
       "            <th>city</th> <th>concrete</th> <th>mixed/composite</th> <th>steel</th> <th>difference</th>\n",
       "        </tr>\n",
       "    </thead>\n",
       "    <tbody>\n",
       "        <tr>\n",
       "            <td>Sunny Isles Beach</td> <td>196     </td> <td>0              </td> <td>0     </td> <td>196       </td>\n",
       "        </tr>\n",
       "        <tr>\n",
       "            <td>Las Vegas        </td> <td>350.22  </td> <td>195.68         </td> <td>164.6 </td> <td>185.62    </td>\n",
       "        </tr>\n",
       "        <tr>\n",
       "            <td>Miami Beach      </td> <td>170.39  </td> <td>0              </td> <td>0     </td> <td>170.39    </td>\n",
       "        </tr>\n",
       "        <tr>\n",
       "            <td>Pittsburgh       </td> <td>89.3    </td> <td>172            </td> <td>256.34</td> <td>167.04    </td>\n",
       "        </tr>\n",
       "        <tr>\n",
       "            <td>Los Angeles      </td> <td>145.7   </td> <td>118.26         </td> <td>310.29</td> <td>164.59    </td>\n",
       "        </tr>\n",
       "        <tr>\n",
       "            <td>Philadelphia     </td> <td>157.89  </td> <td>296.73         </td> <td>288.04</td> <td>130.15    </td>\n",
       "        </tr>\n",
       "        <tr>\n",
       "            <td>Boston           </td> <td>121.92  </td> <td>139            </td> <td>240.79</td> <td>118.87    </td>\n",
       "        </tr>\n",
       "        <tr>\n",
       "            <td>Austin           </td> <td>208.15  </td> <td>0              </td> <td>93.6  </td> <td>114.55    </td>\n",
       "        </tr>\n",
       "        <tr>\n",
       "            <td>Seattle          </td> <td>138.69  </td> <td>284.38         </td> <td>235.31</td> <td>96.62     </td>\n",
       "        </tr>\n",
       "        <tr>\n",
       "            <td>Atlanta          </td> <td>264.25  </td> <td>311.8          </td> <td>169.47</td> <td>94.78     </td>\n",
       "        </tr>\n",
       "    </tbody>\n",
       "</table>\n",
       "<p>... (25 rows omitted)</p>"
      ],
      "text/plain": [
       "city              | concrete | mixed/composite | steel  | difference\n",
       "Sunny Isles Beach | 196      | 0               | 0      | 196\n",
       "Las Vegas         | 350.22   | 195.68          | 164.6  | 185.62\n",
       "Miami Beach       | 170.39   | 0               | 0      | 170.39\n",
       "Pittsburgh        | 89.3     | 172             | 256.34 | 167.04\n",
       "Los Angeles       | 145.7    | 118.26          | 310.29 | 164.59\n",
       "Philadelphia      | 157.89   | 296.73          | 288.04 | 130.15\n",
       "Boston            | 121.92   | 139             | 240.79 | 118.87\n",
       "Austin            | 208.15   | 0               | 93.6   | 114.55\n",
       "Seattle           | 138.69   | 284.38          | 235.31 | 96.62\n",
       "Atlanta           | 264.25   | 311.8           | 169.47 | 94.78\n",
       "... (25 rows omitted)"
      ]
     },
     "execution_count": 29,
     "metadata": {},
     "output_type": "execute_result"
    }
   ],
   "source": [
    "sky_p.sort('difference', True)"
   ]
  },
  {
   "cell_type": "markdown",
   "metadata": {},
   "source": [
    "### Take-home question: try it here!"
   ]
  },
  {
   "cell_type": "code",
   "execution_count": null,
   "metadata": {},
   "outputs": [],
   "source": [
    "# Generate a table of the names of the oldest buildings for each \n",
    "# material for each city:\n",
    "\n"
   ]
  },
  {
   "cell_type": "markdown",
   "metadata": {},
   "source": [
    "## Joins ##"
   ]
  },
  {
   "cell_type": "code",
   "execution_count": null,
   "metadata": {},
   "outputs": [],
   "source": [
    "drinks"
   ]
  },
  {
   "cell_type": "code",
   "execution_count": null,
   "metadata": {},
   "outputs": [],
   "source": [
    "discounts = Table().with_columns(\n",
    "    'Coupon % off', make_array(10, 25, 5),\n",
    "    'Location', make_array('Asha', 'Strada', 'Asha')\n",
    ")\n",
    "discounts"
   ]
  },
  {
   "cell_type": "code",
   "execution_count": null,
   "metadata": {
    "scrolled": true
   },
   "outputs": [],
   "source": [
    "combined = drinks.join('Cafe', discounts, 'Location')\n",
    "combined"
   ]
  },
  {
   "cell_type": "code",
   "execution_count": null,
   "metadata": {},
   "outputs": [],
   "source": [
    "discounted_frac = 1 - combined.column('Coupon % off') / 100\n",
    "combined.with_column(\n",
    "    'Discounted Price', \n",
    "    combined.column('Price') * discounted_frac\n",
    ")"
   ]
  },
  {
   "cell_type": "code",
   "execution_count": null,
   "metadata": {},
   "outputs": [],
   "source": [
    "drinks.join('Cafe', drinks, 'Cafe')"
   ]
  }
 ],
 "metadata": {
  "kernelspec": {
   "display_name": "Python 3",
   "language": "python",
   "name": "python3"
  },
  "language_info": {
   "codemirror_mode": {
    "name": "ipython",
    "version": 3
   },
   "file_extension": ".py",
   "mimetype": "text/x-python",
   "name": "python",
   "nbconvert_exporter": "python",
   "pygments_lexer": "ipython3",
   "version": "3.7.9"
  },
  "toc": {
   "base_numbering": 1,
   "nav_menu": {},
   "number_sections": true,
   "sideBar": true,
   "skip_h1_title": false,
   "title_cell": "Table of Contents",
   "title_sidebar": "Contents",
   "toc_cell": false,
   "toc_position": {},
   "toc_section_display": true,
   "toc_window_display": false
  }
 },
 "nbformat": 4,
 "nbformat_minor": 2
}

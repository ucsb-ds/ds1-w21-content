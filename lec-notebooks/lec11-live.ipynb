{
 "cells": [
  {
   "cell_type": "code",
   "execution_count": 54,
   "metadata": {},
   "outputs": [],
   "source": [
    "from datascience import *\n",
    "import numpy as np\n",
    "\n",
    "%matplotlib inline\n",
    "import matplotlib.pyplot as plots\n",
    "plots.style.use('fivethirtyeight')"
   ]
  },
  {
   "cell_type": "markdown",
   "metadata": {},
   "source": [
    "# Lecture 11 #"
   ]
  },
  {
   "cell_type": "markdown",
   "metadata": {},
   "source": [
    "## Lists"
   ]
  },
  {
   "cell_type": "code",
   "execution_count": 55,
   "metadata": {},
   "outputs": [
    {
     "data": {
      "text/plain": [
       "[1, 2, 3]"
      ]
     },
     "execution_count": 55,
     "metadata": {},
     "output_type": "execute_result"
    }
   ],
   "source": [
    "# list of numbers\n",
    "[1, 2, 3]"
   ]
  },
  {
   "cell_type": "code",
   "execution_count": 56,
   "metadata": {},
   "outputs": [
    {
     "data": {
      "text/plain": [
       "['hello', 1, 2, 3]"
      ]
     },
     "execution_count": 56,
     "metadata": {},
     "output_type": "execute_result"
    }
   ],
   "source": [
    "# list of strings and numbers\n",
    "['hello', 1, 2, 3]"
   ]
  },
  {
   "cell_type": "code",
   "execution_count": 57,
   "metadata": {},
   "outputs": [
    {
     "data": {
      "text/plain": [
       "['hello', 7, 3.14, True]"
      ]
     },
     "execution_count": 57,
     "metadata": {},
     "output_type": "execute_result"
    }
   ],
   "source": [
    "# list of strings, numbers and boolean\n",
    "simple_list = ['hello', 7, 3.14, True]\n",
    "simple_list"
   ]
  },
  {
   "cell_type": "code",
   "execution_count": 58,
   "metadata": {},
   "outputs": [
    {
     "data": {
      "text/plain": [
       "[array([1, 2, 3]), 'what is going on', -10]"
      ]
     },
     "execution_count": 58,
     "metadata": {},
     "output_type": "execute_result"
    }
   ],
   "source": [
    "# nest an array within my list\n",
    "my_array = make_array(1, 2, 3)\n",
    "\n",
    "crowded_list = [my_array, 'what is going on', -10]\n",
    "crowded_list"
   ]
  },
  {
   "cell_type": "code",
   "execution_count": 59,
   "metadata": {},
   "outputs": [
    {
     "data": {
      "text/plain": [
       "list"
      ]
     },
     "execution_count": 59,
     "metadata": {},
     "output_type": "execute_result"
    }
   ],
   "source": [
    "type(crowded_list)"
   ]
  },
  {
   "cell_type": "code",
   "execution_count": 60,
   "metadata": {},
   "outputs": [
    {
     "data": {
      "text/html": [
       "<table border=\"1\" class=\"dataframe\">\n",
       "    <thead>\n",
       "        <tr>\n",
       "            <th>Numbers</th>\n",
       "        </tr>\n",
       "    </thead>\n",
       "    <tbody>\n",
       "        <tr>\n",
       "            <td>1      </td>\n",
       "        </tr>\n",
       "        <tr>\n",
       "            <td>2      </td>\n",
       "        </tr>\n",
       "        <tr>\n",
       "            <td>3      </td>\n",
       "        </tr>\n",
       "    </tbody>\n",
       "</table>"
      ],
      "text/plain": [
       "Numbers\n",
       "1\n",
       "2\n",
       "3"
      ]
     },
     "execution_count": 60,
     "metadata": {},
     "output_type": "execute_result"
    }
   ],
   "source": [
    "# create a table with a list\n",
    "Table().with_columns('Numbers', [1, 2, 3])"
   ]
  },
  {
   "cell_type": "code",
   "execution_count": 61,
   "metadata": {},
   "outputs": [
    {
     "data": {
      "text/html": [
       "<table border=\"1\" class=\"dataframe\">\n",
       "    <thead>\n",
       "        <tr>\n",
       "            <th>Drink</th> <th>Cafe</th> <th>Price</th>\n",
       "        </tr>\n",
       "    </thead>\n",
       "    <tbody>\n",
       "    </tbody>\n",
       "</table>"
      ],
      "text/plain": [
       "Drink | Cafe | Price"
      ]
     },
     "execution_count": 61,
     "metadata": {},
     "output_type": "execute_result"
    }
   ],
   "source": [
    "# populate column labels in a table, with a list\n",
    "drinks = Table(['Drink', 'Cafe', 'Price'])\n",
    "drinks"
   ]
  },
  {
   "cell_type": "code",
   "execution_count": 62,
   "metadata": {},
   "outputs": [
    {
     "data": {
      "text/html": [
       "<table border=\"1\" class=\"dataframe\">\n",
       "    <thead>\n",
       "        <tr>\n",
       "            <th>Drink</th> <th>Cafe</th> <th>Price</th>\n",
       "        </tr>\n",
       "    </thead>\n",
       "    <tbody>\n",
       "        <tr>\n",
       "            <td>Milk Tea</td> <td>Asha  </td> <td>5.5  </td>\n",
       "        </tr>\n",
       "        <tr>\n",
       "            <td>Espresso</td> <td>Strada</td> <td>1.75 </td>\n",
       "        </tr>\n",
       "        <tr>\n",
       "            <td>Latte   </td> <td>Strada</td> <td>3.25 </td>\n",
       "        </tr>\n",
       "        <tr>\n",
       "            <td>Espresso</td> <td>FSM   </td> <td>2    </td>\n",
       "        </tr>\n",
       "    </tbody>\n",
       "</table>"
      ],
      "text/plain": [
       "Drink    | Cafe   | Price\n",
       "Milk Tea | Asha   | 5.5\n",
       "Espresso | Strada | 1.75\n",
       "Latte    | Strada | 3.25\n",
       "Espresso | FSM    | 2"
      ]
     },
     "execution_count": 62,
     "metadata": {},
     "output_type": "execute_result"
    }
   ],
   "source": [
    "# define rows within a table, with lists!\n",
    "drinks = drinks.with_rows([\n",
    "    ['Milk Tea', 'Asha', 5.5],\n",
    "    ['Espresso', 'Strada',  1.75],\n",
    "    ['Latte',    'Strada',  3.25],\n",
    "    ['Espresso', \"FSM\",   2]\n",
    "])\n",
    "drinks"
   ]
  },
  {
   "cell_type": "markdown",
   "metadata": {},
   "source": [
    "## Grouping by one column"
   ]
  },
  {
   "cell_type": "code",
   "execution_count": 63,
   "metadata": {},
   "outputs": [
    {
     "data": {
      "text/html": [
       "<table border=\"1\" class=\"dataframe\">\n",
       "    <thead>\n",
       "        <tr>\n",
       "            <th>Pronouns</th> <th>Prior experience</th> <th>Confidence in programming</th> <th>Confidence in viz</th> <th>Lecture Pace</th> <th>Lecture preference</th> <th>Random1</th> <th>Random2</th> <th>Letter1</th> <th>Letter2</th> <th>Charity</th> <th>Job</th>\n",
       "        </tr>\n",
       "    </thead>\n",
       "    <tbody>\n",
       "        <tr>\n",
       "            <td>he/him/his  </td> <td>I have some experience.     </td> <td>Moderately               </td> <td>Very             </td> <td>too slow    </td> <td>Watching recordings of lectures </td> <td>4      </td> <td>23     </td> <td>M      </td> <td>1      </td> <td>50     </td> <td>A job I love that makes $100,000</td>\n",
       "        </tr>\n",
       "        <tr>\n",
       "            <td>she/her/hers</td> <td>I know a few basic concepts.</td> <td>Moderately               </td> <td>Moderately       </td> <td>just right  </td> <td>No preference                   </td> <td>5      </td> <td>37     </td> <td>a      </td> <td>4      </td> <td>98     </td> <td>A job I love that makes $100,000</td>\n",
       "        </tr>\n",
       "        <tr>\n",
       "            <td>he/him/his  </td> <td>No experience at all.       </td> <td>Moderately               </td> <td>Moderately       </td> <td>just right  </td> <td>No preference                   </td> <td>7      </td> <td>32     </td> <td>x      </td> <td>3      </td> <td>15     </td> <td>a job I hate that makes $500,000</td>\n",
       "        </tr>\n",
       "        <tr>\n",
       "            <td>she/her/hers</td> <td>I know a few basic concepts.</td> <td>Moderately               </td> <td>Very             </td> <td>just right  </td> <td>Watching recordings of lectures </td> <td>4      </td> <td>90     </td> <td>D      </td> <td>1      </td> <td>30     </td> <td>a job I hate that makes $500,000</td>\n",
       "        </tr>\n",
       "        <tr>\n",
       "            <td>he/him/his  </td> <td>I have some experience.     </td> <td>Moderately               </td> <td>Somewhat         </td> <td>too slow    </td> <td>Attending live lectures remotely</td> <td>3      </td> <td>6      </td> <td>x      </td> <td>22     </td> <td>90     </td> <td>A job I love that makes $100,000</td>\n",
       "        </tr>\n",
       "        <tr>\n",
       "            <td>she/her/hers</td> <td>I have some experience.     </td> <td>Somewhat                 </td> <td>Somewhat         </td> <td>just right  </td> <td>Watching recordings of lectures </td> <td>8      </td> <td>25     </td> <td>A      </td> <td>1      </td> <td>50     </td> <td>a job I hate that makes $500,000</td>\n",
       "        </tr>\n",
       "        <tr>\n",
       "            <td>he/him/his  </td> <td>I know a few basic concepts.</td> <td>Moderately               </td> <td>Moderately       </td> <td>just right  </td> <td>Watching recordings of lectures </td> <td>3      </td> <td>9      </td> <td>a      </td> <td>5      </td> <td>40     </td> <td>a job I hate that makes $500,000</td>\n",
       "        </tr>\n",
       "        <tr>\n",
       "            <td>he/him/his  </td> <td>No experience at all.       </td> <td>Not at all               </td> <td>Somewhat         </td> <td>just right  </td> <td>No preference                   </td> <td>10     </td> <td>60     </td> <td>c      </td> <td>18     </td> <td>0      </td> <td>a job I hate that makes $500,000</td>\n",
       "        </tr>\n",
       "        <tr>\n",
       "            <td>she/her/hers</td> <td>I have some experience.     </td> <td>Moderately               </td> <td>Moderately       </td> <td>just right  </td> <td>No preference                   </td> <td>3      </td> <td>48     </td> <td> B     </td> <td>Sigma  </td> <td>5      </td> <td>A job I love that makes $100,000</td>\n",
       "        </tr>\n",
       "        <tr>\n",
       "            <td>he/him/his  </td> <td>I have some experience.     </td> <td>Very                     </td> <td>Moderately       </td> <td>just right  </td> <td>Watching recordings of lectures </td> <td>2      </td> <td>39     </td> <td>v      </td> <td>4      </td> <td>20     </td> <td>a job I hate that makes $500,000</td>\n",
       "        </tr>\n",
       "        <tr>\n",
       "            <td>he/him/his  </td> <td>I have some experience.     </td> <td>Somewhat                 </td> <td>Somewhat         </td> <td>just right  </td> <td>No preference                   </td> <td>7      </td> <td>34     </td> <td>T      </td> <td>11     </td> <td>30     </td> <td>A job I love that makes $100,000</td>\n",
       "        </tr>\n",
       "        <tr>\n",
       "            <td>he/him/his  </td> <td>No experience at all.       </td> <td>Not at all               </td> <td>Somewhat         </td> <td>just right  </td> <td>Watching recordings of lectures </td> <td>4      </td> <td>24     </td> <td>a      </td> <td>22     </td> <td>10     </td> <td>a job I hate that makes $500,000</td>\n",
       "        </tr>\n",
       "        <tr>\n",
       "            <td>he/him/his  </td> <td>No experience at all.       </td> <td>Moderately               </td> <td>Moderately       </td> <td>too fast    </td> <td>No preference                   </td> <td>5      </td> <td>2      </td> <td>l      </td> <td>16     </td> <td>50     </td> <td>a job I hate that makes $500,000</td>\n",
       "        </tr>\n",
       "        <tr>\n",
       "            <td>he/him/his  </td> <td>I know a few basic concepts.</td> <td>Moderately               </td> <td>Very             </td> <td>just right  </td> <td>Attending live lectures remotely</td> <td>10     </td> <td>99     </td> <td>E      </td> <td>15     </td> <td>100    </td> <td>a job I hate that makes $500,000</td>\n",
       "        </tr>\n",
       "        <tr>\n",
       "            <td>she/her/hers</td> <td>I know a few basic concepts.</td> <td>Somewhat                 </td> <td>Not at all       </td> <td>just right  </td> <td>No preference                   </td> <td>9      </td> <td>56     </td> <td>l      </td> <td>8      </td> <td>100    </td> <td>A job I love that makes $100,000</td>\n",
       "        </tr>\n",
       "    </tbody>\n",
       "</table>\n",
       "<p>... (3 rows omitted)</p>"
      ],
      "text/plain": [
       "<IPython.core.display.HTML object>"
      ]
     },
     "metadata": {},
     "output_type": "display_data"
    }
   ],
   "source": [
    "survey = Table.read_table('ds1-survey-pronouns.csv')\n",
    "survey.show(15)"
   ]
  },
  {
   "cell_type": "code",
   "execution_count": 64,
   "metadata": {},
   "outputs": [
    {
     "data": {
      "text/html": [
       "<table border=\"1\" class=\"dataframe\">\n",
       "    <thead>\n",
       "        <tr>\n",
       "            <th>Charity</th> <th>count</th>\n",
       "        </tr>\n",
       "    </thead>\n",
       "    <tbody>\n",
       "        <tr>\n",
       "            <td>0      </td> <td>1    </td>\n",
       "        </tr>\n",
       "        <tr>\n",
       "            <td>5      </td> <td>1    </td>\n",
       "        </tr>\n",
       "        <tr>\n",
       "            <td>10     </td> <td>2    </td>\n",
       "        </tr>\n",
       "        <tr>\n",
       "            <td>15     </td> <td>1    </td>\n",
       "        </tr>\n",
       "        <tr>\n",
       "            <td>20     </td> <td>1    </td>\n",
       "        </tr>\n",
       "        <tr>\n",
       "            <td>30     </td> <td>3    </td>\n",
       "        </tr>\n",
       "        <tr>\n",
       "            <td>40     </td> <td>1    </td>\n",
       "        </tr>\n",
       "        <tr>\n",
       "            <td>50     </td> <td>4    </td>\n",
       "        </tr>\n",
       "        <tr>\n",
       "            <td>90     </td> <td>1    </td>\n",
       "        </tr>\n",
       "        <tr>\n",
       "            <td>98     </td> <td>1    </td>\n",
       "        </tr>\n",
       "        <tr>\n",
       "            <td>100    </td> <td>2    </td>\n",
       "        </tr>\n",
       "    </tbody>\n",
       "</table>"
      ],
      "text/plain": [
       "<IPython.core.display.HTML object>"
      ]
     },
     "metadata": {},
     "output_type": "display_data"
    }
   ],
   "source": [
    "survey.group('Charity').show()"
   ]
  },
  {
   "cell_type": "code",
   "execution_count": 65,
   "metadata": {},
   "outputs": [
    {
     "data": {
      "text/html": [
       "<table border=\"1\" class=\"dataframe\">\n",
       "    <thead>\n",
       "        <tr>\n",
       "            <th>Job</th> <th>Pronouns average</th> <th>Prior experience average</th> <th>Confidence in programming average</th> <th>Confidence in viz average</th> <th>Lecture Pace average</th> <th>Lecture preference average</th> <th>Random1 average</th> <th>Random2 average</th> <th>Letter1 average</th> <th>Letter2 average</th> <th>Charity average</th>\n",
       "        </tr>\n",
       "    </thead>\n",
       "    <tbody>\n",
       "        <tr>\n",
       "            <td>A job I love that makes $100,000</td> <td>                </td> <td>                        </td> <td>                                 </td> <td>                         </td> <td>                    </td> <td>                          </td> <td>5.16667        </td> <td>34             </td> <td>               </td> <td>               </td> <td>62.1667        </td>\n",
       "        </tr>\n",
       "        <tr>\n",
       "            <td>a job I hate that makes $500,000</td> <td>                </td> <td>                        </td> <td>                                 </td> <td>                         </td> <td>                    </td> <td>                          </td> <td>5.58333        </td> <td>44.6667        </td> <td>               </td> <td>               </td> <td>33.75          </td>\n",
       "        </tr>\n",
       "    </tbody>\n",
       "</table>"
      ],
      "text/plain": [
       "Job                              | Pronouns average | Prior experience average | Confidence in programming average | Confidence in viz average | Lecture Pace average | Lecture preference average | Random1 average | Random2 average | Letter1 average | Letter2 average | Charity average\n",
       "A job I love that makes $100,000 |                  |                          |                                   |                           |                      |                            | 5.16667         | 34              |                 |                 | 62.1667\n",
       "a job I hate that makes $500,000 |                  |                          |                                   |                           |                      |                            | 5.58333         | 44.6667         |                 |                 | 33.75"
      ]
     },
     "execution_count": 65,
     "metadata": {},
     "output_type": "execute_result"
    }
   ],
   "source": [
    "survey.group('Job', np.average)"
   ]
  },
  {
   "cell_type": "code",
   "execution_count": null,
   "metadata": {
    "scrolled": true
   },
   "outputs": [],
   "source": [
    "(survey.select('Charity', 'Job').group('Job', np.average))"
   ]
  },
  {
   "cell_type": "code",
   "execution_count": null,
   "metadata": {},
   "outputs": [],
   "source": [
    "# how would you using similar code as above\n",
    "# show the relationship between pronouns and charity average? \n",
    "(survey.select('Pronouns', 'Charity').group('Pronouns', np.average))"
   ]
  },
  {
   "cell_type": "code",
   "execution_count": null,
   "metadata": {},
   "outputs": [],
   "source": [
    "#what happens when you group by charity instead?\n"
   ]
  },
  {
   "cell_type": "markdown",
   "metadata": {},
   "source": [
    "## Cross-classification: grouping by two columns"
   ]
  },
  {
   "cell_type": "code",
   "execution_count": null,
   "metadata": {},
   "outputs": [],
   "source": [
    "survey.group(['Pronouns']).show()"
   ]
  },
  {
   "cell_type": "code",
   "execution_count": null,
   "metadata": {},
   "outputs": [],
   "source": [
    "survey.group(['Pronouns','Charity']).show()"
   ]
  },
  {
   "cell_type": "code",
   "execution_count": null,
   "metadata": {},
   "outputs": [],
   "source": [
    "survey.pivot('Pronouns', 'Charity')"
   ]
  },
  {
   "cell_type": "code",
   "execution_count": null,
   "metadata": {},
   "outputs": [],
   "source": [
    "survey.pivot('Pronouns', 'Job', 'Charity', np.average)"
   ]
  },
  {
   "cell_type": "code",
   "execution_count": null,
   "metadata": {
    "scrolled": true
   },
   "outputs": [],
   "source": [
    "(survey.select('Job', 'Pronouns', 'Charity')\n",
    "       .group(['Job','Pronouns'], np.average)).show()"
   ]
  },
  {
   "cell_type": "code",
   "execution_count": null,
   "metadata": {},
   "outputs": [],
   "source": [
    "# Here, pivot doesn't know how to aggregate the Charity values\n",
    "# for each subgroup of students\n",
    "survey.pivot('Pronouns', 'Job', 'Charity')"
   ]
  },
  {
   "cell_type": "markdown",
   "metadata": {},
   "source": [
    "## Challenge Question ##"
   ]
  },
  {
   "cell_type": "code",
   "execution_count": null,
   "metadata": {},
   "outputs": [],
   "source": [
    "sky = Table.read_table('skyscrapers_v2.csv')\n",
    "sky = (sky.with_column('age', 2021 - sky.column('completed'))\n",
    "          .drop('completed'))\n",
    "sky.show(3)"
   ]
  },
  {
   "cell_type": "code",
   "execution_count": null,
   "metadata": {},
   "outputs": [],
   "source": [
    "# 1. For each city, what’s the tallest building for each material?\n",
    "\n",
    "\n",
    "\n",
    "\n",
    "\n",
    "\n",
    "\n",
    "\n"
   ]
  },
  {
   "cell_type": "code",
   "execution_count": null,
   "metadata": {},
   "outputs": [],
   "source": [
    "# 2. For each city, what’s the height difference between the tallest \n",
    "#    steel building and the tallest concrete building?\n",
    "\n",
    "\n",
    "\n",
    "\n",
    "\n",
    "\n",
    "\n",
    "\n",
    "\n",
    "\n"
   ]
  },
  {
   "cell_type": "markdown",
   "metadata": {},
   "source": [
    "Don't read ahead until you try the challenge questions yourself first!"
   ]
  },
  {
   "cell_type": "code",
   "execution_count": null,
   "metadata": {
    "scrolled": false
   },
   "outputs": [],
   "source": [
    "# 1. For each city, what’s the tallest building for each material?\n",
    "\n",
    "sky.select('name','material', 'city', 'height').group(['city', 'material'], max)"
   ]
  },
  {
   "cell_type": "code",
   "execution_count": null,
   "metadata": {},
   "outputs": [],
   "source": [
    "# 1. For each city, what’s the tallest building for each material?\n",
    "sky_p = sky.pivot('material', 'city', 'height', max)\n",
    "sky_p = sky_p.drop(\"mixed/composite\")\n",
    "sky_p"
   ]
  },
  {
   "cell_type": "code",
   "execution_count": null,
   "metadata": {},
   "outputs": [],
   "source": [
    "# 2. For each city, what’s the height difference between the tallest \n",
    "#    steel building and the tallest concrete building?\n",
    "\n",
    "\n",
    "sky_p = sky_p.with_column(\n",
    "    'difference', \n",
    "    abs(sky_p.column('steel') - sky_p.column('concrete'))\n",
    ")\n",
    "sky_p"
   ]
  },
  {
   "cell_type": "code",
   "execution_count": null,
   "metadata": {},
   "outputs": [],
   "source": [
    "sky_p.sort('difference', True)"
   ]
  },
  {
   "cell_type": "markdown",
   "metadata": {},
   "source": [
    "### Take-home question: try it here!"
   ]
  },
  {
   "cell_type": "code",
   "execution_count": null,
   "metadata": {},
   "outputs": [],
   "source": [
    "# Generate a table of the names of the oldest buildings for each \n",
    "# material for each city:\n",
    "\n"
   ]
  },
  {
   "cell_type": "markdown",
   "metadata": {},
   "source": [
    "## Joins ##"
   ]
  },
  {
   "cell_type": "code",
   "execution_count": null,
   "metadata": {},
   "outputs": [],
   "source": [
    "drinks"
   ]
  },
  {
   "cell_type": "code",
   "execution_count": null,
   "metadata": {},
   "outputs": [],
   "source": [
    "discounts = Table().with_columns(\n",
    "    'Coupon % off', make_array(10, 25, 5),\n",
    "    'Location', make_array('Asha', 'Strada', 'Asha')\n",
    ")\n",
    "discounts"
   ]
  },
  {
   "cell_type": "code",
   "execution_count": null,
   "metadata": {
    "scrolled": true
   },
   "outputs": [],
   "source": [
    "combined = drinks.join('Cafe', discounts, 'Location')\n",
    "combined"
   ]
  },
  {
   "cell_type": "code",
   "execution_count": null,
   "metadata": {},
   "outputs": [],
   "source": [
    "discounted_frac = 1 - combined.column('Coupon % off') / 100\n",
    "combined = combined.with_column(\n",
    "    'Discounted Price', \n",
    "    combined.column('Price') * discounted_frac\n",
    ")"
   ]
  },
  {
   "cell_type": "markdown",
   "metadata": {},
   "source": [
    "**Looking at the Discounted Price column, let's make sure it is rounded to two decimal places. We can use python's built-in function round or numpy's version of round. Let's check out the documentation of both:**"
   ]
  },
  {
   "cell_type": "code",
   "execution_count": null,
   "metadata": {},
   "outputs": [],
   "source": [
    "help(round)"
   ]
  },
  {
   "cell_type": "code",
   "execution_count": null,
   "metadata": {},
   "outputs": [],
   "source": [
    "help(np.round)"
   ]
  },
  {
   "cell_type": "markdown",
   "metadata": {},
   "source": [
    "**Comparing the two help documentation of round and np.round, let's use np.round, within the apply function, to round the array of column \"Discounted Price\"**"
   ]
  },
  {
   "cell_type": "code",
   "execution_count": null,
   "metadata": {},
   "outputs": [],
   "source": [
    "discounted_price = combined.column('Discounted Price')\n",
    "discounted_price"
   ]
  },
  {
   "cell_type": "code",
   "execution_count": null,
   "metadata": {},
   "outputs": [],
   "source": [
    "discounted_price_rounded = np.round(discounted_price,2)\n",
    "discounted_price_rounded"
   ]
  },
  {
   "cell_type": "code",
   "execution_count": null,
   "metadata": {},
   "outputs": [],
   "source": [
    "combined = combined.with_column('Discounted Price Rounded', discounted_price_rounded)\n",
    "combined"
   ]
  },
  {
   "cell_type": "code",
   "execution_count": null,
   "metadata": {},
   "outputs": [],
   "source": [
    "combined = combined.drop('Discounted Price')\n",
    "combined"
   ]
  },
  {
   "cell_type": "code",
   "execution_count": null,
   "metadata": {},
   "outputs": [],
   "source": [
    "combined = combined.relabel('Discounted Price Rounded', 'Discounted Price')"
   ]
  },
  {
   "cell_type": "code",
   "execution_count": null,
   "metadata": {},
   "outputs": [],
   "source": [
    "drinks.join('Cafe', drinks, 'Cafe')"
   ]
  },
  {
   "cell_type": "code",
   "execution_count": null,
   "metadata": {},
   "outputs": [],
   "source": [
    "combined"
   ]
  },
  {
   "cell_type": "code",
   "execution_count": null,
   "metadata": {},
   "outputs": [],
   "source": []
  }
 ],
 "metadata": {
  "kernelspec": {
   "display_name": "Python 3",
   "language": "python",
   "name": "python3"
  },
  "language_info": {
   "codemirror_mode": {
    "name": "ipython",
    "version": 3
   },
   "file_extension": ".py",
   "mimetype": "text/x-python",
   "name": "python",
   "nbconvert_exporter": "python",
   "pygments_lexer": "ipython3",
   "version": "3.7.9"
  },
  "toc": {
   "base_numbering": 1,
   "nav_menu": {},
   "number_sections": true,
   "sideBar": true,
   "skip_h1_title": false,
   "title_cell": "Table of Contents",
   "title_sidebar": "Contents",
   "toc_cell": false,
   "toc_position": {},
   "toc_section_display": true,
   "toc_window_display": false
  }
 },
 "nbformat": 4,
 "nbformat_minor": 2
}
